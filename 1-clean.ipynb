{
 "cells": [
  {
   "cell_type": "markdown",
   "metadata": {},
   "source": [
    "# License\n",
    "\n",
    "    Early Graft Loss and its impact, a kidney transplant analysis. - Part 1: Data Preprocessing.\n",
    "    Copyright (C) 2020  J.R.M. Martens\n",
    "\n",
    "    This program is free software: you can redistribute it and/or modify\n",
    "    it under the terms of the GNU General Public License as published by\n",
    "    the Free Software Foundation, either version 3 of the License, or\n",
    "    (at your option) any later version.\n",
    "\n",
    "    This program is distributed in the hope that it will be useful,\n",
    "    but WITHOUT ANY WARRANTY; without even the implied warranty of\n",
    "    MERCHANTABILITY or FITNESS FOR A PARTICULAR PURPOSE.  See the\n",
    "    GNU General Public License for more details.\n",
    "\n",
    "    You should have received a copy of the GNU General Public License\n",
    "    along with this program.  If not, see <https://www.gnu.org/licenses/>."
   ]
  },
  {
   "cell_type": "markdown",
   "metadata": {},
   "source": [
    "# Setup"
   ]
  },
  {
   "cell_type": "markdown",
   "metadata": {},
   "source": [
    "###### Global Imports"
   ]
  },
  {
   "cell_type": "code",
   "execution_count": 1,
   "metadata": {},
   "outputs": [],
   "source": [
    "import pandas as pd\n",
    "import numpy as np"
   ]
  },
  {
   "cell_type": "markdown",
   "metadata": {},
   "source": [
    "###### Global Functions"
   ]
  },
  {
   "cell_type": "code",
   "execution_count": 2,
   "metadata": {},
   "outputs": [],
   "source": [
    "# pandas profiling \n",
    "import pandas_profiling as pp    # create pandas profiling report\n",
    "import os.path                   # to check whether file exists\n",
    "import webbrowser                # open pp reports\n",
    "\n",
    "def profile(data, file='temp'):\n",
    "    # Drop id column (unique)\n",
    "    data = data.drop(columns=['id'])\n",
    "    \n",
    "    # Define output filename\n",
    "    folder = '../EDA/pp/'\n",
    "    extension = '.html'\n",
    "    filename = folder + file + extension\n",
    "    while os.path.isfile(filename):\n",
    "        file += '#'\n",
    "        filename = folder + file + extension\n",
    "        \n",
    "    # Create report and open in browser\n",
    "    profile = pp.ProfileReport(data)\n",
    "    # rejected_variables = profile.get_rejected_variables(threshold=0.9)\n",
    "    profile.to_file(outputfile=filename)\n",
    "    webbrowser.open('file://' + os.path.realpath(filename))"
   ]
  },
  {
   "cell_type": "code",
   "execution_count": 3,
   "metadata": {},
   "outputs": [],
   "source": [
    "### Categorize text columns into numeric using a mapping\n",
    "def categorize(df, column, values, other = -1, drop = True, nan = False, name = None, replace = False):\n",
    "    \n",
    "    # Do nothing if column does not exist\n",
    "    if column not in df.columns:\n",
    "        print(\"Column does not exist (anymore).\")\n",
    "        return df\n",
    "    \n",
    "    # Print report 1/2\n",
    "    print(\"Mapping:\\t\", values)\n",
    "    print(\"Other value:\\t\", other)\n",
    "    print()\n",
    "    print(column, \"(original):\\n\", df[column].unique())\n",
    "    \n",
    "    # Set new column name\n",
    "    if name != None:\n",
    "        new_column = name\n",
    "    elif not replace: \n",
    "            new_column = column + '_cat'\n",
    "    else: \n",
    "        new_column = column\n",
    "        drop = False\n",
    "    \n",
    "    # Create new categorized column with mapped values and fill unmapped values to 'other' valu\n",
    "    if nan: values[np.nan] = -2\n",
    "    df[new_column] = df[column].map(values).fillna(other).astype(int)\n",
    "    if nan: df[new_column] = df[new_column].replace({-2: np.nan})\n",
    "    \n",
    "    # Print report 2/2\n",
    "    print(\"-->\")\n",
    "    print(new_column, \"(new):\\n\", sorted(df[new_column].unique()))\n",
    "    print()\n",
    "    \n",
    "    # Drop old column\n",
    "    if drop: df = df.drop(columns=[column])\n",
    "        \n",
    "    return df"
   ]
  },
  {
   "cell_type": "code",
   "execution_count": 4,
   "metadata": {},
   "outputs": [],
   "source": [
    "### Sort mappings on values\n",
    "import operator\n",
    "\n",
    "def sort_mapping(to_sort):\n",
    "    sorted_x = sorted(to_sort.items(), key=operator.itemgetter(1))\n",
    "    for x in sorted_x:\n",
    "        print('    \"' + str(x[0]) + '\": ' + str(x[1]) + ',')"
   ]
  },
  {
   "cell_type": "code",
   "execution_count": 5,
   "metadata": {},
   "outputs": [],
   "source": [
    "### Print length difference of dataframe\n",
    "def printlen(prev_length):\n",
    "    new_length = len(df)\n",
    "    difference = prev_length - new_length\n",
    "    print(\"Removed:\", difference)\n",
    "    print(\"Length:\\t\", new_length)\n",
    "    print()\n",
    "    return new_length"
   ]
  },
  {
   "cell_type": "code",
   "execution_count": 6,
   "metadata": {},
   "outputs": [],
   "source": [
    "### Remove a certain value from columns\n",
    "def remove_value(columns, value):\n",
    "    for column in columns:\n",
    "        amount = len(df[df[column] == value])\n",
    "        df[column] = df[column].replace(value, np.nan)\n",
    "        print(\"Removed value\", value, amount, \"times from column\", column)"
   ]
  },
  {
   "cell_type": "code",
   "execution_count": 7,
   "metadata": {},
   "outputs": [],
   "source": [
    "### Set a minimum and/or maximum value for a column\n",
    "def cutoff(columns, minimum = None, maximum = None):\n",
    "    for column in columns:\n",
    "        print(column)\n",
    "        if minimum != None: \n",
    "            old_min = df[column].min()\n",
    "            amt_below = len(df[df[column] < minimum])\n",
    "            df[column] = df[column].mask(df[column] < minimum)\n",
    "        if maximum != None: \n",
    "            old_max = df[column].max()\n",
    "            amt_above = len(df[df[column] > maximum])\n",
    "            df[column] = df[column].mask(df[column] > maximum)\n",
    "\n",
    "        if minimum != None: \n",
    "            print(\"Old Min:\\t\", old_min)\n",
    "            print(\"Amount below:\\t\", amt_below)\n",
    "            print(\"New Min:\\t\", df[column].min())\n",
    "            print()\n",
    "        if maximum != None: \n",
    "            print(\"Old Max:\\t\", old_max)\n",
    "            print(\"Amount above:\\t\", amt_above)\n",
    "            print(\"New Max:\\t\", df[column].max())\n",
    "            print()"
   ]
  },
  {
   "cell_type": "code",
   "execution_count": 8,
   "metadata": {},
   "outputs": [],
   "source": [
    "def print_columns():\n",
    "    for i in sorted(list(df.columns)):\n",
    "        print(i)"
   ]
  },
  {
   "cell_type": "markdown",
   "metadata": {},
   "source": [
    "# Data Loading"
   ]
  },
  {
   "cell_type": "code",
   "execution_count": 9,
   "metadata": {},
   "outputs": [
    {
     "name": "stdout",
     "output_type": "stream",
     "text": [
      "CPU times: user 2.72 s, sys: 15.8 ms, total: 2.74 s\n",
      "Wall time: 2.74 s\n"
     ]
    }
   ],
   "source": [
    "%%time\n",
    "# Set date values\n",
    "dates = ['Date_of_admission', 'Donor_date_of_death', 'Date_of_first_dialysis', 'Nephrectomy_at', 'Date_of_transplant', 'Initial_Graft_fail_date', 'Recipient_date_of_death', 'Initial_Last_seen_date', 'Date_seen__max_', 'Diabetes _since', 'Hypertension _since']\n",
    "# Load in data \n",
    "file = '../data/data_original.csv'\n",
    "df = pd.read_csv(file, sep=';', decimal=',', na_values=' ', parse_dates=dates)\n",
    "# Create id column\n",
    "df['id'] = df.index"
   ]
  },
  {
   "cell_type": "markdown",
   "metadata": {},
   "source": [
    "# Data removal"
   ]
  },
  {
   "cell_type": "code",
   "execution_count": 10,
   "metadata": {},
   "outputs": [],
   "source": [
    "remove = [\n",
    "    'Diuresis__during__last_n_hours', # Not relevant, number of mililiters peed. Probably underreported and clearing is used. Creatinine more important.\n",
    "    'Diuresis_n_hours', # See above.\n",
    "    'Urine_glucose', # Not important, creatinine more important.\n",
    "    'Urine_protein', # Not important, creatinine more important.\n",
    "    'Multi_organ_donor', # Not important, no impact on recipient.\n",
    "    'Cold_perfusion_aorta_started_at', # Ischaemi time is decided based on this and used for analysis.\n",
    "    'Initial_On_machine_indicator', # Too many missing values.\n",
    "    'Transplant_Kidney_order_nr_organ', # Numbers that are not important to us (1-6).\n",
    "    'Organ_specification', # Not needed, information is in r_combined_transplants\n",
    "    'Initial_Graft_fail_spec', # Is 'Other' in Initial_Graft_fail_cause\n",
    "    'Recipient_death_comment', # Is 'Other' in Recipient_cause_of_death\n",
    "    'Highest_creatinine_µmol_l', # Use last\n",
    "]\n",
    "\n",
    "df = df.drop(columns=remove)"
   ]
  },
  {
   "cell_type": "markdown",
   "metadata": {},
   "source": [
    "# Data renaming"
   ]
  },
  {
   "cell_type": "code",
   "execution_count": 11,
   "metadata": {},
   "outputs": [],
   "source": [
    "original_names = df.columns\n",
    "\n",
    "renames = {\n",
    "    'fictief_donornummer': 'd_id',\n",
    "    'fictief_recipientnummer': 'r_id',\n",
    "    'Type_cadaveric': 'd_cadaveric_type',\n",
    "    'NHB_Category': 'd_NHB',\n",
    "    'Donor_cause_of_death': 'd_death_cause',\n",
    "    'Donor_age': 'd_age',\n",
    "    'Donor_sex': 'd_sex',\n",
    "    'Donor_height': 'd_height', \n",
    "    'Donor_weight': 'd_weight',\n",
    "    'Hypertension': 'd_hypertension',\n",
    "    'Hypertension _since': 'd_hypertension_since',\n",
    "    'Diabetes': 'd_diabetes',\n",
    "    'Diabetes _since': 'd_diabetes_since',\n",
    "    'Smoking': 'd_smoking',\n",
    "    'Smoking_–_pack_years': 'd_smoking_pack_years',\n",
    "    'Date_of_admission': 'd_admission_date',\n",
    "    'Donor_date_of_death': 'd_death_date',\n",
    "    'Cardiac_arrest': 'd_cardiac_arrest',\n",
    "    'Hypotensive_periods': 'd_hypotensive_periods',\n",
    "    'Total_duration_of_hypotensive_episodes': 'd_hypotensive_periods_duration',\n",
    "#     'Highest_creatinine_µmol_l': 'd_creatinine_highest', \n",
    "    'Last_creatinine_µmol_l': 'd_creatinine',\n",
    "    'Preservation_solution_type': 'preservation_solution_type',\n",
    "    'Preservation_solution_volume__ml_': 'preservation_solution_volume', # Unit Symbol: in ML\n",
    "    'Recipient_age': 'r_age',\n",
    "    'Recipient_sex': 'r_sex',\n",
    "    'Initial_height': 'r_height',\n",
    "    'Initial_weight': 'r_weight',\n",
    "    'Initial_Primary_Disease': 'r_primary_disease',\n",
    "    'Recipient_blood_group': 'r_blood_group',\n",
    "    'Transplant___PRA': 'r_PRA',\n",
    "    'Date_of_first_dialysis': 'r_first_dialysis_date',\n",
    "    'Last_dialysis_technique__renine_': 'r_last_dialysis_technique',\n",
    "    'Warm_ischaemic_period_1': 'ischaemic_period_warm_1',\n",
    "    'Nephrectomy_at': 'd_nephrectomy_date',\n",
    "    'Initial_Warm_ischaemic_period_2': 'ischaemic_period_warm_2',\n",
    "    'Initial_Cold_ischaemic_period': 'ischaemic_period_cold',\n",
    "    'Date_of_transplant': 'r_transplant_date',\n",
    "    'Mismatch_DR': 'mismatch_DR',\n",
    "    'Mismatch_A': 'mismatch_A',\n",
    "    'Mismatch_B': 'mismatch_B',\n",
    "    'Combined_transplants': 'r_combined_transplants',\n",
    "    'Initial_Pre_emptive_transplant': 'r_pre_emptive_transplant',\n",
    "    'Delayed_graft_function': 'r_delayed_graft_function',\n",
    "    'M3_creatinine': 'r_creatinine_M3',\n",
    "    'M3_proteinuria': 'r_proteinuria_M3',\n",
    "    'Y01_creatinine': 'r_creatinine_Y1',\n",
    "    'Y01_proteinuria': 'r_proteinuria_Y1',\n",
    "    'Y05_creatinine': 'r_creatinine_Y5',\n",
    "    'Y05_proteinuria': 'r_proteinuria_Y5',\n",
    "    'Initial_Graft_fail_date': 'r_graft_fail_date',\n",
    "    'Initial_Graft_fail_cause': 'r_graft_fail_cause',\n",
    "    'Recipient_date_of_death': 'r_death_date',\n",
    "    'Recipient_cause_of_death': 'r_death_cause',\n",
    "    'Initial_Last_seen_date': 'r_seen_last_date',\n",
    "    'Date_seen__max_': 'r_seen_max_date',\n",
    "}\n",
    "\n",
    "df.rename(columns=renames, inplace=True)\n",
    "\n",
    "new_names = df.columns"
   ]
  },
  {
   "cell_type": "markdown",
   "metadata": {},
   "source": [
    "# Categorize"
   ]
  },
  {
   "cell_type": "code",
   "execution_count": 12,
   "metadata": {},
   "outputs": [
    {
     "name": "stdout",
     "output_type": "stream",
     "text": [
      "Mapping:\t {'Non-heartbeating': 0, 'Heartbeating': 1}\n",
      "Other value:\t -1\n",
      "\n",
      "d_cadaveric_type (original):\n",
      " ['Heartbeating' 'Non-heartbeating']\n",
      "-->\n",
      "d_cadaveric_type (new):\n",
      " [0, 1]\n",
      "\n"
     ]
    }
   ],
   "source": [
    "# d_cadaveric_type\n",
    "column = 'd_cadaveric_type'\n",
    "mapping = {\n",
    "    'Non-heartbeating': 0, \n",
    "    'Heartbeating': 1\n",
    "}\n",
    "df = categorize(df, column, mapping, replace=True)"
   ]
  },
  {
   "cell_type": "code",
   "execution_count": 13,
   "metadata": {},
   "outputs": [
    {
     "name": "stdout",
     "output_type": "stream",
     "text": [
      "Mapping:\t {'No': 0, 'Yes': 1}\n",
      "Other value:\t -1\n",
      "\n",
      "d_cardiac_arrest (original):\n",
      " ['No' 'Yes' nan]\n",
      "-->\n",
      "d_cardiac_arrest (new):\n",
      " [0.0, 1.0, nan]\n",
      "\n"
     ]
    }
   ],
   "source": [
    "# d_cardiac_arrest\n",
    "column = 'd_cardiac_arrest'\n",
    "mapping = {\n",
    "    'No': 0, \n",
    "    'Yes': 1\n",
    "}\n",
    "df = categorize(df, column, mapping, nan=True, replace=True)"
   ]
  },
  {
   "cell_type": "code",
   "execution_count": 14,
   "metadata": {},
   "outputs": [
    {
     "name": "stdout",
     "output_type": "stream",
     "text": [
      "Mapping:\t {'N': 0, 'Y': 1}\n",
      "Other value:\t -1\n",
      "\n",
      "d_hypotensive_periods (original):\n",
      " ['N' 'Y' nan]\n",
      "-->\n",
      "d_hypotensive_periods (new):\n",
      " [0.0, 1.0, nan]\n",
      "\n"
     ]
    }
   ],
   "source": [
    "# d_hypotensive_periods\n",
    "column = 'd_hypotensive_periods'\n",
    "mapping = {\n",
    "    'N': 0, \n",
    "    'Y': 1\n",
    "}\n",
    "df = categorize(df, column, mapping, nan=True, replace=True)"
   ]
  },
  {
   "cell_type": "code",
   "execution_count": 15,
   "metadata": {},
   "outputs": [
    {
     "name": "stdout",
     "output_type": "stream",
     "text": [
      "Mapping:\t {'Never': 0, 'Delayed': 1, 'Direct': 2, 'Unknown': -2}\n",
      "Other value:\t -1\n",
      "\n",
      "r_delayed_graft_function (original):\n",
      " ['Direct' 'Unknown' nan 'Delayed' 'Never']\n",
      "-->\n",
      "r_delayed_graft_function (new):\n",
      " [2.0, nan, 0.0, 1.0]\n",
      "\n"
     ]
    }
   ],
   "source": [
    "# r_delayed_graft_function\n",
    "column = 'r_delayed_graft_function'\n",
    "mapping = {\n",
    "    'Never': 0, \n",
    "    'Delayed': 1,\n",
    "    'Direct': 2,\n",
    "    'Unknown': -2 # Will become nan\n",
    "}\n",
    "df = categorize(df, column, mapping, nan=True, replace=True)"
   ]
  },
  {
   "cell_type": "code",
   "execution_count": 16,
   "metadata": {},
   "outputs": [
    {
     "name": "stdout",
     "output_type": "stream",
     "text": [
      "Mapping:\t {'1': 1, '2': 2, 'Y': 3, 'N': 0, 'U': -2}\n",
      "Other value:\t -1\n",
      "\n",
      "d_diabetes (original):\n",
      " [nan 'N' '2' 'U' 'Y' '1']\n",
      "-->\n",
      "d_diabetes (new):\n",
      " [nan, 0.0, 1.0, 2.0, 3.0]\n",
      "\n"
     ]
    }
   ],
   "source": [
    "# diabetes\n",
    "column = 'd_diabetes'\n",
    "mapping = {\n",
    "    '1': 1,\n",
    "    '2': 2,\n",
    "    'Y': 3, \n",
    "    'N': 0,\n",
    "    'U': -2 # Will become nan\n",
    "}\n",
    "df = categorize(df, column, mapping, nan=True, replace=True)"
   ]
  },
  {
   "cell_type": "code",
   "execution_count": 17,
   "metadata": {},
   "outputs": [
    {
     "name": "stdout",
     "output_type": "stream",
     "text": [
      "Mapping:\t {'N': 0, 'Y': 1, 'U': -2}\n",
      "Other value:\t -1\n",
      "\n",
      "d_hypertension (original):\n",
      " [nan 'Y' 'N' 'U']\n",
      "-->\n",
      "d_hypertension (new):\n",
      " [nan, 0.0, 1.0]\n",
      "\n"
     ]
    }
   ],
   "source": [
    "# hypertension\n",
    "column = 'd_hypertension'\n",
    "mapping = {\n",
    "    'N': 0,\n",
    "    'Y': 1, \n",
    "    'U': -2 # Will become nan\n",
    "}\n",
    "df = categorize(df, column, mapping, nan=True, replace=True)"
   ]
  },
  {
   "cell_type": "code",
   "execution_count": 18,
   "metadata": {},
   "outputs": [
    {
     "name": "stdout",
     "output_type": "stream",
     "text": [
      "Mapping:\t {'N': 0, 'Y': 1, 'U': -2}\n",
      "Other value:\t -1\n",
      "\n",
      "d_smoking (original):\n",
      " [nan 'Y' 'N' 'U']\n",
      "-->\n",
      "d_smoking (new):\n",
      " [nan, 0.0, 1.0]\n",
      "\n"
     ]
    }
   ],
   "source": [
    "# smoking\n",
    "column = 'd_smoking'\n",
    "mapping = {\n",
    "    'N': 0,\n",
    "    'Y': 1,\n",
    "    'U': -2 # Will become nan\n",
    "}\n",
    "df = categorize(df, column, mapping, nan=True, replace=True)"
   ]
  },
  {
   "cell_type": "code",
   "execution_count": 19,
   "metadata": {},
   "outputs": [
    {
     "name": "stdout",
     "output_type": "stream",
     "text": [
      "Mapping:\t {'Male': 0, 'Female': 1}\n",
      "Other value:\t -1\n",
      "\n",
      "d_sex (original):\n",
      " ['Female' 'Male']\n",
      "-->\n",
      "d_sex (new):\n",
      " [0, 1]\n",
      "\n",
      "Mapping:\t {'Male': 0, 'Female': 1}\n",
      "Other value:\t -1\n",
      "\n",
      "r_sex (original):\n",
      " ['Male' 'Female']\n",
      "-->\n",
      "r_sex (new):\n",
      " [0, 1]\n",
      "\n"
     ]
    }
   ],
   "source": [
    "# d_sex\n",
    "column = 'd_sex'\n",
    "mapping = {\n",
    "    'Male': 0, \n",
    "    'Female': 1\n",
    "}\n",
    "df = categorize(df, column, mapping, replace=True)\n",
    "\n",
    "# r_sex\n",
    "column = 'r_sex'\n",
    "mapping = {\n",
    "    'Male': 0, \n",
    "    'Female': 1\n",
    "}\n",
    "df = categorize(df, column, mapping, replace=True)"
   ]
  },
  {
   "cell_type": "code",
   "execution_count": 20,
   "metadata": {},
   "outputs": [
    {
     "name": "stdout",
     "output_type": "stream",
     "text": [
      "Mapping:\t {'LKi': 0, 'RKi': 1, 'LKi RKi': 2}\n",
      "Other value:\t 3\n",
      "\n",
      "r_combined_transplants (original):\n",
      " ['RKi' 'LKi' 'LKi RKi' 'Pa RKi' 'LKi Pa' 'RKi WLiv' 'LKi WLiv'\n",
      " 'ERLLiv LKi']\n",
      "-->\n",
      "r_combined_transplants (new):\n",
      " [0, 1, 2, 3]\n",
      "\n"
     ]
    }
   ],
   "source": [
    "# r_combined_transplants\n",
    "column = 'r_combined_transplants'\n",
    "mapping = {\n",
    "    'LKi': 0, \n",
    "    'RKi': 1, \n",
    "    'LKi RKi': 2\n",
    "}\n",
    "other = 3\n",
    "df = categorize(df, column, mapping, other=other, replace=True)"
   ]
  },
  {
   "cell_type": "code",
   "execution_count": 21,
   "metadata": {},
   "outputs": [
    {
     "name": "stdout",
     "output_type": "stream",
     "text": [
      "Mapping:\t {'I: brought in dead (i.e. in the hospital.)': 1, 'II: unsuccessful resuscitation.': 2, 'III: awaiting cardiac arrest (i.e. treatment stopped e.g. ventilator switch off.)': 3, 'IV: cardiac arrest after brain stem death.': 4}\n",
      "Other value:\t -1\n",
      "\n",
      "d_NHB (original):\n",
      " [nan\n",
      " 'III: awaiting cardiac arrest (i.e. treatment stopped e.g. ventilator switch off.)'\n",
      " 'IV: cardiac arrest after brain stem death.'\n",
      " 'II: unsuccessful resuscitation.'\n",
      " 'I: brought in dead (i.e. in the hospital.)']\n",
      "-->\n",
      "d_NHB_cat (new):\n",
      " [nan, 1.0, 2.0, 3.0, 4.0]\n",
      "\n"
     ]
    }
   ],
   "source": [
    "# d_NHB --> d_NHB_cat\n",
    "column = 'd_NHB'\n",
    "mapping = {\n",
    "    'I: brought in dead (i.e. in the hospital.)': 1,\n",
    "    'II: unsuccessful resuscitation.': 2,\n",
    "    'III: awaiting cardiac arrest (i.e. treatment stopped e.g. ventilator switch off.)': 3,\n",
    "    'IV: cardiac arrest after brain stem death.': 4,\n",
    "}\n",
    "df = categorize(df, column, mapping, nan=True)"
   ]
  },
  {
   "cell_type": "code",
   "execution_count": 22,
   "metadata": {},
   "outputs": [
    {
     "name": "stdout",
     "output_type": "stream",
     "text": [
      "Mapping:\t {nan: 0, 'Patient died with functioning transplant': 1, 'Rejection after stopping all immunosuppressive drugs': 2, 'Rejection while taking immunosuppressive drugs (acute / chronic)': 3, 'Hyperacute Rejection': 4, 'Non-Viable Kidney': 5, 'Permanent Non-Function': 6, 'Recurrent primary renal disease': 7, 'Infection ( not graft related )': 8, 'Infection of graft': 9, 'Thrombosis / Infarction': 10, 'Technical problems': 11, 'Vascular or Ureteric operative problems': 12, 'Vascular problems: not operative or rejection related': 13, 'Removal of functioning graft': 14, 'Other ( renal )': 15, 'Unkown': 16}\n",
      "Other value:\t -1\n",
      "\n",
      "r_graft_fail_cause (original):\n",
      " ['Recurrent primary renal disease'\n",
      " 'Rejection while taking immunosuppressive drugs (acute / chronic)' nan\n",
      " 'Patient died with functioning transplant' 'Technical problems'\n",
      " 'Other ( renal )' 'Permanent Non-Function' 'Infection of graft'\n",
      " 'Thrombosis / Infarction' 'Removal of functioning graft'\n",
      " 'Vascular problems: not operative or rejection related'\n",
      " 'Hyperacute Rejection' 'Vascular or Ureteric operative problems'\n",
      " 'Non-Viable Kidney'\n",
      " 'Rejection after stopping all immunosuppressive drugs' 'Unkown'\n",
      " 'Infection ( not graft related )']\n",
      "-->\n",
      "r_graft_fail_cause_cat (new):\n",
      " [0, 1, 2, 3, 4, 5, 6, 7, 8, 9, 10, 11, 12, 13, 14, 15, 16]\n",
      "\n"
     ]
    }
   ],
   "source": [
    "# r_graft_fail_cause\n",
    "column = 'r_graft_fail_cause'\n",
    "mapping = {\n",
    "    np.nan: 0,\n",
    "    'Patient died with functioning transplant': 1,\n",
    "    'Rejection after stopping all immunosuppressive drugs': 2,\n",
    "    'Rejection while taking immunosuppressive drugs (acute / chronic)': 3,\n",
    "    'Hyperacute Rejection': 4,\n",
    "    'Non-Viable Kidney': 5,\n",
    "    'Permanent Non-Function': 6,\n",
    "    'Recurrent primary renal disease': 7,\n",
    "    'Infection ( not graft related )': 8,\n",
    "    'Infection of graft': 9,\n",
    "    'Thrombosis / Infarction': 10,\n",
    "    'Technical problems': 11,\n",
    "    'Vascular or Ureteric operative problems': 12,\n",
    "    'Vascular problems: not operative or rejection related': 13,\n",
    "    'Removal of functioning graft': 14,\n",
    "    'Other ( renal )': 15,\n",
    "    'Unkown': 16\n",
    "}\n",
    "df = categorize(df, column, mapping)"
   ]
  },
  {
   "cell_type": "code",
   "execution_count": 23,
   "metadata": {},
   "outputs": [
    {
     "name": "stdout",
     "output_type": "stream",
     "text": [
      "Mapping:\t {'Bretschneider': 0, 'HTK / Bretschneider': 1, 'Celsior': 2, 'Eurocollins': 3, 'IGL-1': 4, 'Hartmann': 5, 'UW': 6, 'Modified UW': 7, 'Other': 8, nan: 9}\n",
      "Other value:\t -1\n",
      "\n",
      "preservation_solution_type (original):\n",
      " ['UW' 'Eurocollins' 'HTK / Bretschneider' nan 'Other' 'Bretschneider'\n",
      " 'Hartmann' 'Modified UW' 'Celsior' 'IGL-1']\n",
      "-->\n",
      "preservation_solution_type_cat (new):\n",
      " [0, 1, 2, 3, 4, 5, 6, 7, 8, 9]\n",
      "\n"
     ]
    }
   ],
   "source": [
    "# preservation_solution_type\n",
    "column = 'preservation_solution_type'\n",
    "mapping = {\n",
    "    'Bretschneider': 0,\n",
    "    'HTK / Bretschneider': 1,\n",
    "    'Celsior': 2,\n",
    "    'Eurocollins': 3,\n",
    "    'IGL-1': 4,\n",
    "    'Hartmann': 5,\n",
    "    'UW': 6,\n",
    "    'Modified UW': 7,\n",
    "    'Other': 8,\n",
    "    np.nan: 9\n",
    "}\n",
    "df = categorize(df, column, mapping)"
   ]
  },
  {
   "cell_type": "code",
   "execution_count": 24,
   "metadata": {},
   "outputs": [
    {
     "name": "stdout",
     "output_type": "stream",
     "text": [
      "Mapping:\t {'Actieve centrumhaemodialyse': 0, 'CAPD': 1, 'CCPD/APD': 2, 'Centrumhaemodialyse, vorm onbekend': 3, 'Dialyse, vorm onbekend': 4, 'Geen voorafgaande dialyse': 5, 'IPD': 6, 'Nachtelijke centrum-HD': 7, 'Passieve centrumhaemodialyse': 8, 'Thuishaemodialyse': 9, 'Transplantaat-falen': 10, 'Onbekend': 11, nan: 11}\n",
      "Other value:\t -1\n",
      "\n",
      "r_last_dialysis_technique (original):\n",
      " ['Centrumhaemodialyse, vorm onbekend' 'CAPD' 'Geen voorafgaande dialyse'\n",
      " 'Thuishaemodialyse' 'Transplantaat-falen' 'CCPD/APD' nan\n",
      " 'Passieve centrumhaemodialyse' 'IPD' 'Actieve centrumhaemodialyse'\n",
      " 'Onbekend' 'Dialyse, vorm onbekend' 'Nachtelijke centrum-HD']\n",
      "-->\n",
      "r_last_dialysis_technique_cat (new):\n",
      " [0, 1, 2, 3, 4, 5, 6, 7, 8, 9, 10, 11]\n",
      "\n"
     ]
    }
   ],
   "source": [
    "# r_last_dialysis_technique\n",
    "column = 'r_last_dialysis_technique'\n",
    "mapping = {\n",
    "    'Actieve centrumhaemodialyse': 0,\n",
    "    'CAPD': 1,\n",
    "    'CCPD/APD': 2,\n",
    "    'Centrumhaemodialyse, vorm onbekend': 3,\n",
    "    'Dialyse, vorm onbekend': 4,\n",
    "    'Geen voorafgaande dialyse': 5,\n",
    "    'IPD': 6,\n",
    "    'Nachtelijke centrum-HD': 7,\n",
    "    'Passieve centrumhaemodialyse': 8,\n",
    "    'Thuishaemodialyse': 9,\n",
    "    'Transplantaat-falen': 10,\n",
    "    'Onbekend': 11,\n",
    "    np.nan: 11\n",
    "}\n",
    "df = categorize(df, column, mapping)"
   ]
  },
  {
   "cell_type": "code",
   "execution_count": 25,
   "metadata": {},
   "outputs": [
    {
     "name": "stdout",
     "output_type": "stream",
     "text": [
      "Mapping:\t {'No': 0, 'Yes': 1, 'Unknown': -2}\n",
      "Other value:\t -1\n",
      "\n",
      "r_pre_emptive_transplant (original):\n",
      " ['No' nan 'Yes' 'Unknown']\n",
      "-->\n",
      "r_pre_emptive_transplant (new):\n",
      " [0.0, nan, 1.0]\n",
      "\n"
     ]
    }
   ],
   "source": [
    "# r_pre_emptive_transplant\n",
    "column = 'r_pre_emptive_transplant'\n",
    "mapping = {\n",
    "    'No': 0,\n",
    "    'Yes': 1,\n",
    "    'Unknown': -2 # Will become nan\n",
    "}\n",
    "df = categorize(df, column, mapping, nan=True, replace=True)"
   ]
  },
  {
   "cell_type": "code",
   "execution_count": 26,
   "metadata": {},
   "outputs": [
    {
     "name": "stdout",
     "output_type": "stream",
     "text": [
      "Mapping:\t {'Trauma: Capitis': 1, 'Suicide: Head injury': 1, 'Trauma: Not Otherwise Specified': 1, 'Trauma: Travel accident on land': 1, 'SDH: Sub Dural Hematoma': 1, 'Suicide: Jump': 1, 'Trauma: Falling': 1, 'Trauma: Suffocation': 1, 'Trauma: Exposure to gasses / smoke / vapour': 1, 'Trauma: Drowning': 1, 'Trauma: Travel accident on water': 1, 'Trauma: Mechanical': 1, 'EDH: Epi Dural Hematoma': 1, 'CVA: Cerebro Vascular Accident Not Otherwise Specified': 2, 'CVA: Intra Cerebral Bleeding': 2, 'CVA: Cerebral Ischemia': 2, 'SAB: Sub Arachnoidal Bleeding': 2, 'Circulational: Acute Myocard Infarct': 3, 'Circulational: Cardiac Arrest': 3, 'Circulational: Recidief Myocard Infarct': 3, 'Non-accident: Not Otherwise Specified': 4, 'Circulational: Not Otherwise Specified': 4, 'Brain Tumor: Not Otherwise Specified': 4, 'Respirational: Not Otherwise Specified': 4, 'Not Otherwise Specified': 4, 'Suicide: Not Otherwise Specified': 4, 'Malignancies': 4, 'Suicide: Drugs': 4, 'Brain Tumor: Astrocytoma grade 1 or 2': 4, 'Respirational: Status Asthmaticus': 4, 'Brain Tumor: Malignant': 4, 'Suicide: Respiratory': 4, 'Brain Tumor: Benign': 4, 'Medical complication: Medication': 4, 'Status Epilepticus': 4, 'Meningitis: Bacterial': 4, nan: 4, 'Medical complication: Surgical / Medical treatment': 4, 'Medical complication: Diagnostic treatment': 4, 'Meningitis: Not Otherwise Specified': 4, 'Respirational: Epiglotitis / Laryngitis': 4, 'Brain Tumor: Astrocytoma grade 3': 4}\n",
      "Other value:\t -1\n",
      "\n",
      "d_death_cause (original):\n",
      " ['CVA: Cerebro Vascular Accident Not Otherwise Specified'\n",
      " 'Trauma: Capitis' 'Non-accident: Not Otherwise Specified'\n",
      " 'Not Otherwise Specified' 'Suicide: Head injury'\n",
      " 'Brain Tumor: Not Otherwise Specified'\n",
      " 'Circulational: Not Otherwise Specified'\n",
      " 'Trauma: Not Otherwise Specified'\n",
      " 'Respirational: Not Otherwise Specified'\n",
      " 'Suicide: Not Otherwise Specified' 'Suicide: Drugs' 'Malignancies' nan\n",
      " 'Meningitis: Not Otherwise Specified' 'CVA: Intra Cerebral Bleeding'\n",
      " 'SAB: Sub Arachnoidal Bleeding' 'Circulational: Cardiac Arrest'\n",
      " 'CVA: Cerebral Ischemia' 'Circulational: Acute Myocard Infarct'\n",
      " 'Trauma: Travel accident on land' 'Trauma: Falling'\n",
      " 'SDH: Sub Dural Hematoma' 'Suicide: Jump'\n",
      " 'Brain Tumor: Astrocytoma grade 1 or 2' 'Status Epilepticus'\n",
      " 'Respirational: Status Asthmaticus' 'Brain Tumor: Malignant'\n",
      " 'Suicide: Respiratory' 'Brain Tumor: Benign'\n",
      " 'Medical complication: Medication' 'Trauma: Suffocation'\n",
      " 'Trauma: Exposure to gasses / smoke / vapour' 'Meningitis: Bacterial'\n",
      " 'Trauma: Drowning' 'Trauma: Travel accident on water'\n",
      " 'Medical complication: Surgical / Medical treatment'\n",
      " 'Brain Tumor: Astrocytoma grade 3' 'Trauma: Mechanical'\n",
      " 'Medical complication: Diagnostic treatment'\n",
      " 'Respirational: Epiglotitis / Laryngitis' 'EDH: Epi Dural Hematoma'\n",
      " 'Circulational: Recidief Myocard Infarct']\n",
      "-->\n",
      "d_death_cause_cat (new):\n",
      " [1, 2, 3, 4]\n",
      "\n"
     ]
    }
   ],
   "source": [
    "# d_death_cause - text to 53 categories, 53 to 4 categories (missing)\n",
    "# 1 = Trauma, 2 = Stroke, 3 = Cardiac arrest, 4 = Other\n",
    "column = 'd_death_cause'\n",
    "mapping = {\n",
    "    \"Trauma: Capitis\": 1,\n",
    "    \"Suicide: Head injury\": 1,\n",
    "    \"Trauma: Not Otherwise Specified\": 1,\n",
    "    \"Trauma: Travel accident on land\": 1,\n",
    "    \"SDH: Sub Dural Hematoma\": 1,\n",
    "    \"Suicide: Jump\": 1,\n",
    "    \"Trauma: Falling\": 1,\n",
    "    \"Trauma: Suffocation\": 1,\n",
    "    \"Trauma: Exposure to gasses / smoke / vapour\": 1,\n",
    "    \"Trauma: Drowning\": 1,\n",
    "    \"Trauma: Travel accident on water\": 1,\n",
    "    \"Trauma: Mechanical\": 1,\n",
    "    \"EDH: Epi Dural Hematoma\": 1,\n",
    "    \"CVA: Cerebro Vascular Accident Not Otherwise Specified\": 2,\n",
    "    \"CVA: Intra Cerebral Bleeding\": 2,\n",
    "    \"CVA: Cerebral Ischemia\": 2,\n",
    "    \"SAB: Sub Arachnoidal Bleeding\": 2,\n",
    "    \"Circulational: Acute Myocard Infarct\": 3,\n",
    "    \"Circulational: Cardiac Arrest\": 3,\n",
    "    \"Circulational: Recidief Myocard Infarct\": 3,\n",
    "    \"Non-accident: Not Otherwise Specified\": 4,\n",
    "    \"Circulational: Not Otherwise Specified\": 4,\n",
    "    \"Brain Tumor: Not Otherwise Specified\": 4,\n",
    "    \"Respirational: Not Otherwise Specified\": 4,\n",
    "    \"Not Otherwise Specified\": 4,\n",
    "    \"Suicide: Not Otherwise Specified\": 4,\n",
    "    \"Malignancies\": 4,\n",
    "    \"Suicide: Drugs\": 4,\n",
    "    \"Brain Tumor: Astrocytoma grade 1 or 2\": 4,\n",
    "    \"Respirational: Status Asthmaticus\": 4,\n",
    "    \"Brain Tumor: Malignant\": 4,\n",
    "    \"Suicide: Respiratory\": 4,\n",
    "    \"Brain Tumor: Benign\": 4,\n",
    "    \"Medical complication: Medication\": 4,\n",
    "    \"Status Epilepticus\": 4,\n",
    "    \"Meningitis: Bacterial\": 4,\n",
    "    np.nan: 4,\n",
    "    \"Medical complication: Surgical / Medical treatment\": 4,\n",
    "    \"Medical complication: Diagnostic treatment\": 4,\n",
    "    \"Meningitis: Not Otherwise Specified\": 4,\n",
    "    \"Respirational: Epiglotitis / Laryngitis\": 4,\n",
    "    \"Brain Tumor: Astrocytoma grade 3\": 4,\n",
    "}\n",
    "df = categorize(df, column, mapping)"
   ]
  },
  {
   "cell_type": "code",
   "execution_count": 27,
   "metadata": {},
   "outputs": [
    {
     "name": "stdout",
     "output_type": "stream",
     "text": [
      "Mapping:\t {'Cause of death: uncertain - not determined': 0, 'Unknown': 0, 'Septicemia / MOF': 1, 'Patient refused further dialysis treatment': 1, 'Malignant disease - Other / Specify': 1, 'Malignant disease - Lymfoproliferative disorder / Specify': 1, 'Other / Specify': 1, 'Infection': 1, 'Cachexia': 1, 'Suicide': 1, 'Tuberculosis ( not Lung )': 1, 'Surgical complications': 1, 'Hemorrhage / Other / Specify': 1, 'Dialysis therapy ceased for any other reason': 1, 'Infections elsewhere (except Viral Hepatitis)': 1, 'Accident / All causes / Specify': 1, 'Bone Marrow Depression': 1, 'Viral infection / generalized': 1, 'Hemorrhage from surgery': 1, 'Dementia': 1, 'Liver disease due to other Viral Hepatitis': 1, 'Accident unrelated to dialysis treatment': 1, 'Pulmonary Embolus': 2, 'Pulmonary infection ( Bacterial )': 2, 'Pulmonary infection ( Viral )': 2, 'Pulmonary infection ( Fungal or Protozoal )': 2, 'Tuberculosis ( Lung )': 2, 'Causes of cardiac failure / other': 3, 'Myocardial ischemia / infarction': 3, 'Cardiac arrest - Sudden death': 3, 'Fluid Overload': 3, 'Hypertensive Cardiac Failure': 3, 'Hemorrhage from ruptured vascular aneurysm (AAA / etc)': 3, 'Cerebrovascular accident (CVA)': 4, 'Pancreatitis': 5, 'Mesenteric Infarction': 5, 'Gastro-intestinal / Other / Specify': 5, 'Cirrhosis - not viral': 5, 'Gastro-intestinal hemorrhage': 5, 'Peritonitis': 5, 'Cystic Liver Disease': 5, 'Liver failure / Cause Unknown': 5, 'Perforation of colon': 5, 'Perforation of peptic ulcer': 5, 'Liver disease due to Hepatitis B Virus': 5, 'Liver disease due to Drug Toxicity': 5, 'Hyperkalemia': 6, 'Accident related to dialysis treatment': 6, 'Failure of transplant': 6, 'Sclerosing peritoneal disease': 6, 'Renal failure': 6, 'Hemorrhage from graft site': 6, 'Hemorrhage from vascular access or dialysis circuit': 6}\n",
      "Other value:\t -1\n",
      "\n",
      "r_death_cause (original):\n",
      " ['Septicemia / MOF' 'Patient refused further dialysis treatment' nan\n",
      " 'Cause of death: uncertain - not determined'\n",
      " 'Causes of cardiac failure / other' 'Pulmonary Embolus'\n",
      " 'Myocardial ischemia / infarction' 'Malignant disease - Other / Specify'\n",
      " 'Cerebrovascular accident (CVA)'\n",
      " 'Malignant disease - Lymfoproliferative disorder / Specify'\n",
      " 'Other / Specify' 'Pancreatitis' 'Cardiac arrest - Sudden death'\n",
      " 'Infection' 'Cachexia' 'Fluid Overload'\n",
      " 'Pulmonary infection ( Bacterial )' 'Hypertensive Cardiac Failure'\n",
      " 'Mesenteric Infarction' 'Gastro-intestinal / Other / Specify' 'Suicide'\n",
      " 'Hyperkalemia' 'Tuberculosis ( not Lung )'\n",
      " 'Pulmonary infection ( Viral )' 'Surgical complications'\n",
      " 'Hemorrhage / Other / Specify'\n",
      " 'Dialysis therapy ceased for any other reason' 'Cirrhosis - not viral'\n",
      " 'Pulmonary infection ( Fungal or Protozoal )'\n",
      " 'Accident related to dialysis treatment'\n",
      " 'Hemorrhage from ruptured vascular aneurysm (AAA / etc)'\n",
      " 'Infections elsewhere (except Viral Hepatitis)'\n",
      " 'Gastro-intestinal hemorrhage' 'Accident / All causes / Specify'\n",
      " 'Failure of transplant' 'Peritonitis' 'Bone Marrow Depression'\n",
      " 'Sclerosing peritoneal disease' 'Cystic Liver Disease'\n",
      " 'Liver failure / Cause Unknown' 'Renal failure'\n",
      " 'Viral infection / generalized' 'Hemorrhage from surgery'\n",
      " 'Accident unrelated to dialysis treatment' 'Hemorrhage from graft site'\n",
      " 'Perforation of colon' 'Perforation of peptic ulcer'\n",
      " 'Liver disease due to Hepatitis B Virus' 'Dementia'\n",
      " 'Hemorrhage from vascular access or dialysis circuit'\n",
      " 'Liver disease due to other Viral Hepatitis' 'Tuberculosis ( Lung )'\n",
      " 'Liver disease due to Drug Toxicity' 'Unknown']\n",
      "-->\n",
      "r_death_cause_cat (new):\n",
      " [1.0, nan, 0.0, 2.0, 3.0, 4.0, 5.0, 6.0]\n",
      "\n"
     ]
    }
   ],
   "source": [
    "# r_death_cause - text to 53 categories, 53 to 7 categories\n",
    "# 0 = Unknown, 1 = Other, 2 = Pulmonary, 3 = Cardiovascular, 4 = Cerebrovascular, 5 = GI - Liver, 6 = Renal / dialysis related\n",
    "column = 'r_death_cause'\n",
    "mapping = {\n",
    "    'Cause of death: uncertain - not determined': 0,\n",
    "    'Unknown': 0,\n",
    "    'Septicemia / MOF': 1,\n",
    "    'Patient refused further dialysis treatment': 1,\n",
    "    'Malignant disease - Other / Specify': 1,\n",
    "    'Malignant disease - Lymfoproliferative disorder / Specify': 1,\n",
    "    'Other / Specify': 1,\n",
    "    'Infection': 1,\n",
    "    'Cachexia': 1,\n",
    "    'Suicide': 1,\n",
    "    'Tuberculosis ( not Lung )': 1,\n",
    "    'Surgical complications': 1,\n",
    "    'Hemorrhage / Other / Specify': 1,\n",
    "    'Dialysis therapy ceased for any other reason': 1,\n",
    "    'Infections elsewhere (except Viral Hepatitis)': 1,\n",
    "    'Accident / All causes / Specify': 1,\n",
    "    'Bone Marrow Depression': 1,\n",
    "    'Viral infection / generalized': 1,\n",
    "    'Hemorrhage from surgery': 1,\n",
    "    'Dementia': 1,\n",
    "    'Liver disease due to other Viral Hepatitis': 1,\n",
    "    'Accident unrelated to dialysis treatment': 1,\n",
    "    'Pulmonary Embolus': 2,\n",
    "    'Pulmonary infection ( Bacterial )': 2,\n",
    "    'Pulmonary infection ( Viral )': 2,\n",
    "    'Pulmonary infection ( Fungal or Protozoal )': 2,\n",
    "    'Tuberculosis ( Lung )': 2,\n",
    "    'Causes of cardiac failure / other': 3,\n",
    "    'Myocardial ischemia / infarction': 3,\n",
    "    'Cardiac arrest - Sudden death': 3,\n",
    "    'Fluid Overload': 3,\n",
    "    'Hypertensive Cardiac Failure': 3,\n",
    "    'Hemorrhage from ruptured vascular aneurysm (AAA / etc)': 3,\n",
    "    'Cerebrovascular accident (CVA)': 4,\n",
    "    'Pancreatitis': 5,\n",
    "    'Mesenteric Infarction': 5,\n",
    "    'Gastro-intestinal / Other / Specify': 5,\n",
    "    'Cirrhosis - not viral': 5,\n",
    "    'Gastro-intestinal hemorrhage': 5,\n",
    "    'Peritonitis': 5,\n",
    "    'Cystic Liver Disease': 5,\n",
    "    'Liver failure / Cause Unknown': 5,\n",
    "    'Perforation of colon': 5,\n",
    "    'Perforation of peptic ulcer': 5,\n",
    "    'Liver disease due to Hepatitis B Virus': 5,\n",
    "    'Liver disease due to Drug Toxicity': 5,\n",
    "    'Hyperkalemia': 6,\n",
    "    'Accident related to dialysis treatment': 6,\n",
    "    'Failure of transplant': 6,\n",
    "    'Sclerosing peritoneal disease': 6,\n",
    "    'Renal failure': 6,\n",
    "    'Hemorrhage from graft site': 6,\n",
    "    'Hemorrhage from vascular access or dialysis circuit': 6,\n",
    "}\n",
    "df = categorize(df, column, mapping, nan=True)"
   ]
  },
  {
   "cell_type": "code",
   "execution_count": 28,
   "metadata": {},
   "outputs": [
    {
     "name": "stdout",
     "output_type": "stream",
     "text": [
      "Mapping:\t {'Pyelonephritis/Interstitial nephritis - VU reflux without obstruction': 0, 'Polycystic Kidneys - Adult type (dominant)': 0, 'Kidney tumor': 0, 'Hereditary/Familial nephropathy - Type unspecified': 0, 'Congenital renal hypoplasia - Type unspecified': 0, 'Nephropathy due to analgesic drugs': 0, \"Hereditary nephritis with nerve deafness (Alport's syndrome)\": 0, 'Medullary Cystic Disease - including nephronophthisis': 0, 'Pyelonephritis/Interstitial nephritis - Congenital obstructive uropathy': 0, 'Cystic kidney disease - Type unspecified': 0, 'Congenital renal dysplasia with/without urinary tract malformation': 0, 'Syndrome of agenesis of abdominal muscles (Prune Belly syndrome)': 0, 'Tuberculosis': 0, 'Hereditary Nephropathy - Other': 0, 'Pyelonephritis/Interstitial nephritis - Acquired obstructive uropathy': 0, 'Cystinosis': 0, 'Rapidly progressive Glomerulonephritis without systemic disease': 0, 'Traumatic or Surgical loss of kidney': 0, 'Polycystic Kidneys - Infantile type (recessive)': 0, 'Nephropathy caused by other specific drug': 0, 'Nephropathy due to Cyclosporin A': 0, 'Cystic kidney disease - Other specified type': 0, 'Nephropathy due to Cisplatinum': 0, 'Iscemic renal disease / cholesterol embolism': 0, 'Focal segmental glomerulosclerosis with nephrotic syndrome in adults': 1, 'Lupus Erythematosus': 1, 'Focal segmental glomerulosclerosis with nephrotic syndrome in children': 1, 'Glomerulonephritis - histologically examined': 1, 'Glomerulonephritis - histologically not examined': 1, 'Diabetes Type I': 1, 'Hemolytic Uremic Syndrome including Moschcowitz syndrome': 1, 'Renal vascular disease due to malignant hypertension': 1, 'Renal vascular disease due to hypertension': 1, 'Nephrocalcinosis and Hypercalcemic Nephropathy': 1, \"Wegener's granulomatosis\": 1, 'Amyloidosis': 1, \"Goodpasture's syndrome\": 1, 'Henoch-Schonlein Purpura': 1, 'IgA nephropathy (proven by immunofluorescence)': 1, 'Primary oxalosis': 1, 'Membranous nephropathy': 1, 'Gout nephropathy (urate)': 1, 'Dense deposit disease MPGN - Type II': 1, 'Pyelonephritis/Interstitial nephritis - Neurogenic bladder': 1, 'Renal vascular disease due to polyarteritis': 1, 'Myelomatosis - Light chain deposit disease': 1, 'Membrano-proliferative glomerulonephritis - Type I': 1, 'Systemic sclerosis (scleroderma)': 1, 'Diabetes Type II': 1, \"Fabry's disease\": 1, 'Cryoglobulinemic glomerulonephritis': 1, 'Chronic renal failure - etiology uncertain': 2, 'Pyelonephritis/Interstitial nephritis - Urolithiasis': 2, 'Tubulo-interstitial nephritis (not Pyelonephritis)': 2, 'Pyelonephritis/Interstitial nephritis - Cause not specified': 2, 'Renal vascular disease - Type unspecified': 2, 'Other identified renal disorders - Specify': 2, 'Pyelonephritis/Interstitial nephritis - Other cause': 2, 'Renal vascular disease - Classified': 2, 'Cortical or Tubular necrosis': 2, 'Multisystem disease - Other specified type': 2}\n",
      "Other value:\t -1\n",
      "\n",
      "r_primary_disease (original):\n",
      " ['Focal segmental glomerulosclerosis with nephrotic syndrome in adults'\n",
      " 'Pyelonephritis/Interstitial nephritis - VU reflux without obstruction'\n",
      " 'Chronic renal failure - etiology uncertain' 'Lupus Erythematosus'\n",
      " 'Focal segmental glomerulosclerosis with nephrotic syndrome in children'\n",
      " 'Glomerulonephritis - histologically examined'\n",
      " 'Polycystic Kidneys - Adult type (dominant)'\n",
      " 'Glomerulonephritis - histologically not examined'\n",
      " 'Pyelonephritis/Interstitial nephritis - Urolithiasis' 'Kidney tumor'\n",
      " 'Hereditary/Familial nephropathy - Type unspecified'\n",
      " 'Tubulo-interstitial nephritis (not Pyelonephritis)'\n",
      " 'Congenital renal hypoplasia - Type unspecified' 'Diabetes Type I'\n",
      " 'Pyelonephritis/Interstitial nephritis - Cause not specified'\n",
      " 'Hemolytic Uremic Syndrome including Moschcowitz syndrome'\n",
      " 'Renal vascular disease due to malignant hypertension'\n",
      " 'Renal vascular disease due to hypertension'\n",
      " 'Nephrocalcinosis and Hypercalcemic Nephropathy'\n",
      " \"Wegener's granulomatosis\" 'Amyloidosis' \"Goodpasture's syndrome\"\n",
      " 'Renal vascular disease - Type unspecified'\n",
      " 'Nephropathy due to analgesic drugs' 'Henoch-Schonlein Purpura'\n",
      " 'Other identified renal disorders - Specify'\n",
      " 'IgA nephropathy (proven by immunofluorescence)'\n",
      " \"Hereditary nephritis with nerve deafness (Alport's syndrome)\"\n",
      " 'Medullary Cystic Disease - including nephronophthisis'\n",
      " 'Pyelonephritis/Interstitial nephritis - Congenital obstructive uropathy'\n",
      " 'Primary oxalosis' nan\n",
      " 'Congenital renal dysplasia with/without urinary tract malformation'\n",
      " 'Pyelonephritis/Interstitial nephritis - Other cause'\n",
      " 'Membranous nephropathy' 'Cystic kidney disease - Type unspecified'\n",
      " 'Gout nephropathy (urate)' 'Dense deposit disease MPGN - Type II'\n",
      " 'Pyelonephritis/Interstitial nephritis - Neurogenic bladder'\n",
      " 'Renal vascular disease due to polyarteritis'\n",
      " 'Syndrome of agenesis of abdominal muscles (Prune Belly syndrome)'\n",
      " 'Myelomatosis - Light chain deposit disease'\n",
      " 'Membrano-proliferative glomerulonephritis - Type I' 'Tuberculosis'\n",
      " 'Hereditary Nephropathy - Other' 'Systemic sclerosis (scleroderma)'\n",
      " 'Renal vascular disease - Classified' 'Cortical or Tubular necrosis'\n",
      " 'Pyelonephritis/Interstitial nephritis - Acquired obstructive uropathy'\n",
      " 'Multisystem disease - Other specified type' 'Diabetes Type II'\n",
      " 'Cystinosis'\n",
      " 'Rapidly progressive Glomerulonephritis without systemic disease'\n",
      " 'Traumatic or Surgical loss of kidney'\n",
      " 'Polycystic Kidneys - Infantile type (recessive)'\n",
      " 'Nephropathy caused by other specific drug'\n",
      " 'Nephropathy due to Cyclosporin A'\n",
      " 'Cystic kidney disease - Other specified type'\n",
      " 'Oligomeganephronic hypoplasia' 'Nephropathy due to Cisplatinum'\n",
      " \"Fabry's disease\" 'Cryoglobulinemic glomerulonephritis'\n",
      " 'Iscemic renal disease / cholesterol embolism']\n",
      "-->\n",
      "r_disease_recurrent (new):\n",
      " [-1.0, 0.0, 1.0, 2.0, nan]\n",
      "\n"
     ]
    }
   ],
   "source": [
    "# r_primary_disease\n",
    "column = 'r_primary_disease'\n",
    "mapping = {\n",
    "    \"Pyelonephritis/Interstitial nephritis - VU reflux without obstruction\": 0,\n",
    "    \"Polycystic Kidneys - Adult type (dominant)\": 0,\n",
    "    \"Kidney tumor\": 0,\n",
    "    \"Hereditary/Familial nephropathy - Type unspecified\": 0,\n",
    "    \"Congenital renal hypoplasia - Type unspecified\": 0,\n",
    "    \"Nephropathy due to analgesic drugs\": 0,\n",
    "    \"Hereditary nephritis with nerve deafness (Alport's syndrome)\": 0,\n",
    "    \"Medullary Cystic Disease - including nephronophthisis\": 0,\n",
    "    \"Pyelonephritis/Interstitial nephritis - Congenital obstructive uropathy\": 0,\n",
    "    \"Cystic kidney disease - Type unspecified\": 0,\n",
    "    \"Congenital renal dysplasia with/without urinary tract malformation\": 0,\n",
    "    \"Syndrome of agenesis of abdominal muscles (Prune Belly syndrome)\": 0,\n",
    "    \"Tuberculosis\": 0,\n",
    "    \"Hereditary Nephropathy - Other\": 0,\n",
    "    \"Pyelonephritis/Interstitial nephritis - Acquired obstructive uropathy\": 0,\n",
    "    \"Cystinosis\": 0,\n",
    "    \"Rapidly progressive Glomerulonephritis without systemic disease\": 0,\n",
    "    \"Traumatic or Surgical loss of kidney\": 0,\n",
    "    \"Polycystic Kidneys - Infantile type (recessive)\": 0,\n",
    "    \"Nephropathy caused by other specific drug\": 0,\n",
    "    \"Nephropathy due to Cyclosporin A\": 0,\n",
    "    \"Cystic kidney disease - Other specified type\": 0,\n",
    "    \"Nephropathy due to Cisplatinum\": 0,\n",
    "    \"Iscemic renal disease / cholesterol embolism\": 0,\n",
    "    \"Focal segmental glomerulosclerosis with nephrotic syndrome in adults\": 1,\n",
    "    \"Lupus Erythematosus\": 1,\n",
    "    \"Focal segmental glomerulosclerosis with nephrotic syndrome in children\": 1,\n",
    "    \"Glomerulonephritis - histologically examined\": 1,\n",
    "    \"Glomerulonephritis - histologically not examined\": 1,\n",
    "    \"Diabetes Type I\": 1,\n",
    "    \"Hemolytic Uremic Syndrome including Moschcowitz syndrome\": 1,\n",
    "    \"Renal vascular disease due to malignant hypertension\": 1,\n",
    "    \"Renal vascular disease due to hypertension\": 1,\n",
    "    \"Nephrocalcinosis and Hypercalcemic Nephropathy\": 1,\n",
    "    \"Wegener's granulomatosis\": 1,\n",
    "    \"Amyloidosis\": 1,\n",
    "    \"Goodpasture's syndrome\": 1,\n",
    "    \"Henoch-Schonlein Purpura\": 1,\n",
    "    \"IgA nephropathy (proven by immunofluorescence)\": 1,\n",
    "    \"Primary oxalosis\": 1,\n",
    "    \"Membranous nephropathy\": 1,\n",
    "    \"Gout nephropathy (urate)\": 1,\n",
    "    \"Dense deposit disease MPGN - Type II\": 1,\n",
    "    \"Pyelonephritis/Interstitial nephritis - Neurogenic bladder\": 1,\n",
    "    \"Renal vascular disease due to polyarteritis\": 1,\n",
    "    \"Myelomatosis - Light chain deposit disease\": 1,\n",
    "    \"Membrano-proliferative glomerulonephritis - Type I\": 1,\n",
    "    \"Systemic sclerosis (scleroderma)\": 1,\n",
    "    \"Diabetes Type II\": 1,\n",
    "    \"Fabry's disease\": 1,\n",
    "    \"Cryoglobulinemic glomerulonephritis\": 1,\n",
    "    \"Chronic renal failure - etiology uncertain\": 2,\n",
    "    \"Pyelonephritis/Interstitial nephritis - Urolithiasis\": 2,\n",
    "    \"Tubulo-interstitial nephritis (not Pyelonephritis)\": 2,\n",
    "    \"Pyelonephritis/Interstitial nephritis - Cause not specified\": 2,\n",
    "    \"Renal vascular disease - Type unspecified\": 2,\n",
    "    \"Other identified renal disorders - Specify\": 2,\n",
    "    \"Pyelonephritis/Interstitial nephritis - Other cause\": 2,\n",
    "    \"Renal vascular disease - Classified\": 2,\n",
    "    \"Cortical or Tubular necrosis\": 2,\n",
    "    \"Multisystem disease - Other specified type\": 2,\n",
    "}\n",
    "df = categorize(df, column, mapping, nan=True, name='r_disease_recurrent')"
   ]
  },
  {
   "cell_type": "markdown",
   "metadata": {},
   "source": [
    "# Delete"
   ]
  },
  {
   "cell_type": "code",
   "execution_count": 29,
   "metadata": {},
   "outputs": [],
   "source": [
    "length = len(df)\n",
    "original = length"
   ]
  },
  {
   "cell_type": "code",
   "execution_count": 30,
   "metadata": {},
   "outputs": [
    {
     "name": "stdout",
     "output_type": "stream",
     "text": [
      "2013 436\n",
      "2014 475\n",
      "2015 468\n",
      "2016 390\n",
      "2017 304\n"
     ]
    }
   ],
   "source": [
    "years = list(range(1990, 2018))\n",
    "# Create selectable for each year\n",
    "ix_year = dict()\n",
    "for year in years:\n",
    "    start = str(year) + '-01-01'\n",
    "    end = str(year) + '-12-31'\n",
    "    ix_year[year] = ((df['r_transplant_date'] >= start) & (df['r_transplant_date'] <= end))\n",
    "    \n",
    "for year in range(2013, 2018):\n",
    "    print(year, len(df[ix_year[year]]))"
   ]
  },
  {
   "cell_type": "code",
   "execution_count": 31,
   "metadata": {},
   "outputs": [
    {
     "name": "stdout",
     "output_type": "stream",
     "text": [
      "Original: 11416\n",
      "\n"
     ]
    }
   ],
   "source": [
    "# Print original length\n",
    "print(\"Original:\", original)\n",
    "print()"
   ]
  },
  {
   "cell_type": "code",
   "execution_count": 32,
   "metadata": {},
   "outputs": [
    {
     "name": "stdout",
     "output_type": "stream",
     "text": [
      "Removed: 58\n",
      "Length:\t 11358\n",
      "\n"
     ]
    }
   ],
   "source": [
    "# Remove duplicates (always both kidneys)\n",
    "df = df[df.duplicated(['r_id','r_transplant_date']) == False]\n",
    "length = printlen(length)"
   ]
  },
  {
   "cell_type": "code",
   "execution_count": 33,
   "metadata": {},
   "outputs": [
    {
     "name": "stdout",
     "output_type": "stream",
     "text": [
      "Removed: 253\n",
      "Length:\t 11105\n",
      "\n"
     ]
    }
   ],
   "source": [
    "# Remove recipients aged < 12 years\n",
    "df = df.loc[df['r_age'] >= 12]\n",
    "length = printlen(length)"
   ]
  },
  {
   "cell_type": "code",
   "execution_count": 34,
   "metadata": {},
   "outputs": [
    {
     "name": "stdout",
     "output_type": "stream",
     "text": [
      "Removed: 533\n",
      "Length:\t 10572\n",
      "\n"
     ]
    }
   ],
   "source": [
    "# Remove other from combined transplants\n",
    "df = df[df['r_combined_transplants'] != 3]\n",
    "length = printlen(length)"
   ]
  },
  {
   "cell_type": "code",
   "execution_count": 35,
   "metadata": {},
   "outputs": [
    {
     "name": "stdout",
     "output_type": "stream",
     "text": [
      "2013 408\n",
      "2014 436\n",
      "2015 435\n",
      "2016 370\n",
      "2017 286\n"
     ]
    }
   ],
   "source": [
    "years = list(range(1990, 2018))\n",
    "# Create selectable for each year\n",
    "ix_year = dict()\n",
    "for year in years:\n",
    "    start = str(year) + '-01-01'\n",
    "    end = str(year) + '-12-31'\n",
    "    ix_year[year] = ((df['r_transplant_date'] >= start) & (df['r_transplant_date'] <= end))\n",
    "    \n",
    "for year in range(2013, 2018):\n",
    "    print(year, len(df[ix_year[year]]))"
   ]
  },
  {
   "cell_type": "code",
   "execution_count": 36,
   "metadata": {},
   "outputs": [
    {
     "name": "stdout",
     "output_type": "stream",
     "text": [
      "Removed: 212\n",
      "Length:\t 10360\n",
      "\n",
      "Original:\t11416\n",
      "Removed:\t 1056\n",
      "Final:\t\t 10360\n"
     ]
    }
   ],
   "source": [
    "# Remove NHB Category I (brought in dead) and II (unsuccesful resuscitation)\n",
    "df = df[df['d_NHB_cat'] != 1]\n",
    "df = df[df['d_NHB_cat'] != 2] \n",
    "length = printlen(length)\n",
    "\n",
    "# Print final length\n",
    "final = len(df)\n",
    "difference = original - final\n",
    "print(\"Original:\\t\", original, sep='')\n",
    "print(\"Removed:\\t\", difference)\n",
    "print(\"Final:\\t\\t\", final)"
   ]
  },
  {
   "cell_type": "markdown",
   "metadata": {},
   "source": [
    "## Date Differences"
   ]
  },
  {
   "cell_type": "code",
   "execution_count": 37,
   "metadata": {},
   "outputs": [],
   "source": [
    "# df_dates = df.select_dtypes(include=['datetime64']).columns # Select all date columns\n",
    "\n",
    "# All dates except for r_transplant_date\n",
    "dates_diff = {\n",
    "    'd_admission_date': 'd_admission_date_diff',\n",
    "    'd_death_date': 'd_death_date_diff',\n",
    "    'r_first_dialysis_date': 'r_first_dialysis_date_diff',\n",
    "    'd_nephrectomy_date': 'd_nephrectomy_date_diff',\n",
    "    'r_graft_fail_date': 'r_graft_fail_date_diff',\n",
    "    'r_death_date': 'r_death_date_diff',\n",
    "    'r_seen_last_date': 'r_seen_last_date_diff',\n",
    "    'r_seen_max_date': 'r_seen_max_date_diff',\n",
    "}"
   ]
  },
  {
   "cell_type": "code",
   "execution_count": 38,
   "metadata": {},
   "outputs": [],
   "source": [
    "for date in dates_diff.keys():\n",
    "    df[dates_diff[date]] = ((df[date] - df['r_transplant_date']) / np.timedelta64(1, 'D'))\n",
    "#     df[dates_diff[date]] = (df[date] - df['r_transplant_date']).dt.days\n",
    "    df = df.drop(columns=[date])"
   ]
  },
  {
   "cell_type": "markdown",
   "metadata": {},
   "source": [
    "## Data Validation"
   ]
  },
  {
   "cell_type": "markdown",
   "metadata": {},
   "source": [
    "### -1 and 0 removal"
   ]
  },
  {
   "cell_type": "code",
   "execution_count": 39,
   "metadata": {},
   "outputs": [
    {
     "name": "stdout",
     "output_type": "stream",
     "text": [
      "Removed value -1 205 times from column r_weight\n",
      "Removed value -1 204 times from column r_height\n",
      "Removed value -1 1 times from column ischaemic_period_warm_2\n",
      "Removed value -1 90 times from column r_proteinuria_M3\n",
      "Removed value -1 22 times from column r_proteinuria_Y1\n",
      "Removed value -1 65 times from column r_proteinuria_Y5\n"
     ]
    }
   ],
   "source": [
    "# Remove -1 values\n",
    "value = -1\n",
    "\n",
    "columns = ['r_weight', 'r_height', 'ischaemic_period_warm_2', 'r_proteinuria_M3', 'r_proteinuria_Y1', 'r_proteinuria_Y5']\n",
    "remove_value(columns, value)"
   ]
  },
  {
   "cell_type": "code",
   "execution_count": 40,
   "metadata": {},
   "outputs": [
    {
     "name": "stdout",
     "output_type": "stream",
     "text": [
      "Removed value 0 76 times from column d_height\n",
      "Removed value 0 70 times from column d_weight\n"
     ]
    }
   ],
   "source": [
    "# Remove 0 values\n",
    "value = 0\n",
    "\n",
    "columns = ['d_height', 'd_weight']\n",
    "remove_value(columns, value)"
   ]
  },
  {
   "cell_type": "markdown",
   "metadata": {},
   "source": [
    "## Cutoff"
   ]
  },
  {
   "cell_type": "code",
   "execution_count": 41,
   "metadata": {
    "scrolled": false
   },
   "outputs": [
    {
     "name": "stdout",
     "output_type": "stream",
     "text": [
      "r_creatinine_M3\n",
      "Old Min:\t -1.0\n",
      "Amount below:\t 43\n",
      "New Min:\t 31.0\n",
      "\n",
      "Old Max:\t 2373.0\n",
      "Amount above:\t 7\n",
      "New Max:\t 973.0\n",
      "\n",
      "r_creatinine_Y1\n",
      "Old Min:\t -1.0\n",
      "Amount below:\t 2\n",
      "New Min:\t 41.0\n",
      "\n",
      "Old Max:\t 1377.0\n",
      "Amount above:\t 4\n",
      "New Max:\t 860.0\n",
      "\n",
      "r_creatinine_Y5\n",
      "Old Min:\t -1.0\n",
      "Amount below:\t 6\n",
      "New Min:\t 45.0\n",
      "\n",
      "Old Max:\t 1318.0\n",
      "Amount above:\t 1\n",
      "New Max:\t 999.0\n",
      "\n",
      "d_creatinine\n",
      "Old Min:\t 0.09\n",
      "Amount below:\t 155\n",
      "New Min:\t 30.0\n",
      "\n",
      "Old Max:\t 13260.0\n",
      "Amount above:\t 44\n",
      "New Max:\t 972.4\n",
      "\n"
     ]
    }
   ],
   "source": [
    "# Set minimum and maximum for creatinine values\n",
    "columns = ['r_creatinine_M3', 'r_creatinine_Y1', 'r_creatinine_Y5', 'd_creatinine'] # ', 'd_creatinine_highest'\n",
    "minimum = 30\n",
    "maximum = 1000\n",
    "cutoff(columns, minimum = minimum, maximum = maximum)"
   ]
  },
  {
   "cell_type": "code",
   "execution_count": 42,
   "metadata": {},
   "outputs": [
    {
     "name": "stdout",
     "output_type": "stream",
     "text": [
      "d_admission_date_diff\n",
      "Old Min:\t -3291.0\n",
      "Amount below:\t 14\n",
      "New Min:\t -128.0\n",
      "\n"
     ]
    }
   ],
   "source": [
    "# Set minimum and maximum for d_nephrectomy_date_diff\n",
    "columns = ['d_admission_date_diff']\n",
    "minimum = -180\n",
    "cutoff(columns, minimum = minimum)"
   ]
  },
  {
   "cell_type": "code",
   "execution_count": 43,
   "metadata": {},
   "outputs": [
    {
     "name": "stdout",
     "output_type": "stream",
     "text": [
      "d_nephrectomy_date_diff\n",
      "Old Min:\t -29417.0\n",
      "Amount below:\t 55\n",
      "New Min:\t -14.0\n",
      "\n",
      "Old Max:\t 2739.0\n",
      "Amount above:\t 33\n",
      "New Max:\t 0.0\n",
      "\n"
     ]
    }
   ],
   "source": [
    "# Set minimum and maximum for d_nephrectomy_date_diff\n",
    "columns = ['d_nephrectomy_date_diff']\n",
    "minimum = -28\n",
    "maximum = 0\n",
    "cutoff(columns, minimum = minimum, maximum=maximum)"
   ]
  },
  {
   "cell_type": "code",
   "execution_count": 44,
   "metadata": {},
   "outputs": [
    {
     "name": "stdout",
     "output_type": "stream",
     "text": [
      "r_seen_last_date_diff\n",
      "Old Min:\t -5669.0\n",
      "Amount below:\t 3\n",
      "New Min:\t 0.0\n",
      "\n"
     ]
    }
   ],
   "source": [
    "# Set minimum for date values that should occur after r_transplant_date\n",
    "columns = ['r_seen_last_date_diff']\n",
    "minimum = 0\n",
    "cutoff(columns, minimum = minimum)"
   ]
  },
  {
   "cell_type": "code",
   "execution_count": 45,
   "metadata": {},
   "outputs": [
    {
     "name": "stdout",
     "output_type": "stream",
     "text": [
      "r_first_dialysis_date_diff\n",
      "Old Max:\t 300.0\n",
      "Amount above:\t 2\n",
      "New Max:\t -7.0\n",
      "\n"
     ]
    }
   ],
   "source": [
    "# Set maximum for date values that should occur before r_transplant_date\n",
    "columns = ['r_first_dialysis_date_diff'] # d_nephrectomy_date_diff\n",
    "maximum = 0\n",
    "cutoff(columns, maximum = maximum)"
   ]
  },
  {
   "cell_type": "markdown",
   "metadata": {},
   "source": [
    "# Recompute"
   ]
  },
  {
   "cell_type": "code",
   "execution_count": 46,
   "metadata": {},
   "outputs": [],
   "source": [
    "# d_diabetes_since from date to year\n",
    "df['d_diabetes_since'] = df['d_diabetes_since'].apply(lambda x: x.year)"
   ]
  },
  {
   "cell_type": "code",
   "execution_count": 47,
   "metadata": {},
   "outputs": [],
   "source": [
    "# d_hypertension_since from date to year\n",
    "df['d_hypertension_since'] = df['d_hypertension_since'].apply(lambda x: x.year)"
   ]
  },
  {
   "cell_type": "code",
   "execution_count": 48,
   "metadata": {},
   "outputs": [],
   "source": [
    "# r_graft_fail_cause_cat from 0 to 1 if there is a death date - 129 cases\n",
    "def graft_fail_cause(x):\n",
    "    if x['r_graft_fail_cause_cat'] == 0:\n",
    "        if pd.notnull(x['r_death_date_diff']):\n",
    "            return 1\n",
    "        else:\n",
    "            return 0\n",
    "    else:\n",
    "        return x['r_graft_fail_cause_cat']\n",
    "    \n",
    "df['r_graft_fail_cause_cat'] = df.apply(graft_fail_cause, axis=1)\n",
    "# df.groupby('r_graft_fail_cause_cat')['id'].nunique()"
   ]
  },
  {
   "cell_type": "markdown",
   "metadata": {},
   "source": [
    "# Compute"
   ]
  },
  {
   "cell_type": "code",
   "execution_count": 49,
   "metadata": {},
   "outputs": [
    {
     "data": {
      "text/plain": [
       "r_dead\n",
       "0    5947\n",
       "1    4413\n",
       "Name: id, dtype: int64"
      ]
     },
     "execution_count": 49,
     "metadata": {},
     "output_type": "execute_result"
    }
   ],
   "source": [
    "# Death Recipient - 0: No, 1: Yes\n",
    "def death(x):\n",
    "    # Set 1 if recipient has a death date\n",
    "    if pd.notnull(x['r_death_date_diff']):\n",
    "        return 1\n",
    "    # Set 1 if r_graft_fail_cause is equal to 'Patient died with functioning transplant'\n",
    "    elif x['r_graft_fail_cause_cat'] == 1:\n",
    "        return 1\n",
    "    else:\n",
    "        return 0\n",
    "    \n",
    "df['r_dead'] = df.apply(death, axis=1)\n",
    "df.groupby('r_dead')['id'].nunique()"
   ]
  },
  {
   "cell_type": "code",
   "execution_count": 50,
   "metadata": {},
   "outputs": [
    {
     "name": "stdout",
     "output_type": "stream",
     "text": [
      "d_BMI\n",
      "Old Max:\t 388.8888888888889\n",
      "Amount above:\t 2\n",
      "New Max:\t 66.59729448491154\n",
      "\n",
      "r_BMI\n",
      "Old Max:\t 285.9960552268244\n",
      "Amount above:\t 2\n",
      "New Max:\t 48.44290657439447\n",
      "\n"
     ]
    }
   ],
   "source": [
    "# BMI\n",
    "df['d_BMI'] = df['d_weight'] / ((df['d_height'] / 100) * (df['d_height'] / 100))\n",
    "df['r_BMI'] = df['r_weight'] / ((df['r_height'] / 100) * (df['r_height'] / 100))\n",
    "\n",
    "# Set maximum for BMI values\n",
    "columns = ['d_BMI', 'r_BMI']\n",
    "maximum = 100\n",
    "cutoff(columns, maximum = maximum)"
   ]
  },
  {
   "cell_type": "code",
   "execution_count": 51,
   "metadata": {},
   "outputs": [],
   "source": [
    "# MDRD\n",
    "df['d_MDRD'] = 186*((df['d_creatinine']/88.4)**(-1.154))*((df['d_age'])**(-0.203))*(1-(df['d_sex']*0.258))\n",
    "\n",
    "df['r_MDRD_M3'] = 186*((df['r_creatinine_M3']/88.4)**(-1.154))*((df['r_age'])**(-0.203))*(1-(df['r_sex']*0.258))\n",
    "df['r_MDRD_Y1'] = 186*((df['r_creatinine_Y1']/88.4)**(-1.154))*(((df['r_age']+1))**(-0.203))*(1-(df['r_sex']*0.258))\n",
    "df['r_MDRD_Y5'] = 186*((df['r_creatinine_Y5']/88.4)**(-1.154))*(((df['r_age']+5))**(-0.203))*(1-(df['r_sex']*0.258))"
   ]
  },
  {
   "cell_type": "code",
   "execution_count": 52,
   "metadata": {},
   "outputs": [
    {
     "data": {
      "text/plain": [
       "inf"
      ]
     },
     "execution_count": 52,
     "metadata": {},
     "output_type": "execute_result"
    }
   ],
   "source": [
    "df['d_MDRD'].max()"
   ]
  },
  {
   "cell_type": "code",
   "execution_count": 53,
   "metadata": {},
   "outputs": [
    {
     "data": {
      "text/plain": [
       "retransplant\n",
       "0    8631\n",
       "1     815\n",
       "2     815\n",
       "3      87\n",
       "4      11\n",
       "5       1\n",
       "Name: id, dtype: int64"
      ]
     },
     "execution_count": 53,
     "metadata": {},
     "output_type": "execute_result"
    }
   ],
   "source": [
    "# Retransplant\n",
    "nr_transplants = df.groupby('r_id')['id'].nunique()\n",
    "def retransplant(x):\n",
    "    if nr_transplants[x['r_id']] == 1:\n",
    "        return 0\n",
    "    else:\n",
    "        indices = list(df[df['r_id'] == x['r_id']].index.values)\n",
    "        transplant = indices.index(x['id']) + 1\n",
    "        return transplant\n",
    "df['retransplant'] = df.apply(retransplant, axis=1)\n",
    "df.groupby('retransplant')['id'].nunique()"
   ]
  },
  {
   "cell_type": "code",
   "execution_count": 54,
   "metadata": {},
   "outputs": [
    {
     "data": {
      "text/plain": [
       "retransplant_after\n",
       "0    9446\n",
       "1     914\n",
       "Name: id, dtype: int64"
      ]
     },
     "execution_count": 54,
     "metadata": {},
     "output_type": "execute_result"
    }
   ],
   "source": [
    "# Retransplant After - a recipient had another transplant after the current transplant\n",
    "nr_transplants = df.groupby('r_id')['id'].nunique()\n",
    "def retransplant_after(x):\n",
    "    if x['retransplant'] == 0:\n",
    "        return 0\n",
    "    elif nr_transplants[x['r_id']] == x['retransplant']:\n",
    "        return 0\n",
    "    else:\n",
    "        return 1\n",
    "df['retransplant_after'] = df.apply(retransplant_after, axis=1)\n",
    "df.groupby('retransplant_after')['id'].nunique()"
   ]
  },
  {
   "cell_type": "code",
   "execution_count": 55,
   "metadata": {},
   "outputs": [],
   "source": [
    "# Retransplant Days - the number of days the recipient had until the next transplant\n",
    "def retransplant_days(x):\n",
    "    if x['retransplant_after'] == 0:\n",
    "        return np.nan\n",
    "    else:\n",
    "        nr = x['retransplant']\n",
    "        nxt = df[((df['r_id'] == x['r_id']) & (df['retransplant'] == (nr+1)))]['r_transplant_date'].iloc[0]\n",
    "        days = ((nxt - x['r_transplant_date']) / np.timedelta64(1, 'D'))\n",
    "        return days\n",
    "    \n",
    "df['retransplant_days'] = df.apply(retransplant_days, axis=1)"
   ]
  },
  {
   "cell_type": "code",
   "execution_count": 56,
   "metadata": {},
   "outputs": [
    {
     "data": {
      "text/plain": [
       "graftloss\n",
       "0    7570\n",
       "1    2790\n",
       "Name: id, dtype: int64"
      ]
     },
     "execution_count": 56,
     "metadata": {},
     "output_type": "execute_result"
    }
   ],
   "source": [
    "# Graft loss\n",
    "def graftloss(x):\n",
    "    # Set 0 if r_graft_fail_cause is equal to 'Patient died with functioning transplant'\n",
    "    if x['r_graft_fail_cause_cat'] == 0 or x['r_graft_fail_cause_cat'] == 1:\n",
    "        return 0\n",
    "    else:\n",
    "        return 1\n",
    "    \n",
    "df['graftloss'] = df.apply(graftloss, axis=1)\n",
    "df.groupby('graftloss')['id'].nunique()"
   ]
  },
  {
   "cell_type": "code",
   "execution_count": 57,
   "metadata": {},
   "outputs": [
    {
     "data": {
      "text/plain": [
       "early_graftloss\n",
       "0    9425\n",
       "1     935\n",
       "Name: id, dtype: int64"
      ]
     },
     "execution_count": 57,
     "metadata": {},
     "output_type": "execute_result"
    }
   ],
   "source": [
    "# Early Graft Loss - 1 if graftloss and graft fail date <= 90 days\n",
    "def early_graftloss(x):\n",
    "    if x['graftloss'] == 1:\n",
    "        if x['r_graft_fail_date_diff'] <= 90:\n",
    "            return 1\n",
    "        else:\n",
    "            return 0\n",
    "    else:\n",
    "        return 0\n",
    "    \n",
    "df['early_graftloss'] = df.apply(early_graftloss, axis=1)\n",
    "df.groupby('early_graftloss')['id'].nunique()"
   ]
  },
  {
   "cell_type": "markdown",
   "metadata": {},
   "source": [
    "## Merging"
   ]
  },
  {
   "cell_type": "code",
   "execution_count": 58,
   "metadata": {},
   "outputs": [],
   "source": [
    "# Last seen date of a recipient, use maximum date of seen_last, seen_max or graft_fail (means there was an update)\n",
    "def seen(x):\n",
    "    seen_last = x['r_seen_last_date_diff']\n",
    "    seen_max = x['r_seen_max_date_diff']\n",
    "    graft_fail = x['r_graft_fail_date_diff']\n",
    "    lst = [seen_last, seen_max, graft_fail]\n",
    "    return np.nanmax(lst)\n",
    "    \n",
    "df['r_seen_date_diff'] = df.apply(seen, axis=1)\n",
    "df = df.drop(columns=['r_seen_last_date_diff', 'r_seen_max_date_diff']) # Drop columns last seen"
   ]
  },
  {
   "cell_type": "markdown",
   "metadata": {},
   "source": [
    "## Exporting"
   ]
  },
  {
   "cell_type": "code",
   "execution_count": 59,
   "metadata": {},
   "outputs": [
    {
     "name": "stdout",
     "output_type": "stream",
     "text": [
      "data_20-04-11.csv succesfully created.\n"
     ]
    }
   ],
   "source": [
    "# Load in data \n",
    "version_date = '20-04-11'\n",
    "folder = '../data/'\n",
    "file = f\"data_{version_date}.csv\"\n",
    "filename = folder + file\n",
    "df.to_csv(filename, sep=';', decimal=',', na_rep=' ', index=False)\n",
    "print(file, \"succesfully created.\")"
   ]
  },
  {
   "cell_type": "markdown",
   "metadata": {},
   "source": [
    "# Sandbox\n",
    "A place to perform wild code."
   ]
  },
  {
   "cell_type": "code",
   "execution_count": 60,
   "metadata": {},
   "outputs": [
    {
     "name": "stdout",
     "output_type": "stream",
     "text": [
      "Final columns:\n",
      "\n",
      "d_BMI\n",
      "d_MDRD\n",
      "d_NHB_cat\n",
      "d_admission_date_diff\n",
      "d_age\n",
      "d_cadaveric_type\n",
      "d_cardiac_arrest\n",
      "d_creatinine\n",
      "d_death_cause_cat\n",
      "d_death_date_diff\n",
      "d_diabetes\n",
      "d_diabetes_since\n",
      "d_height\n",
      "d_hypertension\n",
      "d_hypertension_since\n",
      "d_hypotensive_periods\n",
      "d_hypotensive_periods_duration\n",
      "d_id\n",
      "d_nephrectomy_date_diff\n",
      "d_sex\n",
      "d_smoking\n",
      "d_smoking_pack_years\n",
      "d_weight\n",
      "early_graftloss\n",
      "graftloss\n",
      "id\n",
      "ischaemic_period_cold\n",
      "ischaemic_period_warm_1\n",
      "ischaemic_period_warm_2\n",
      "mismatch_A\n",
      "mismatch_B\n",
      "mismatch_DR\n",
      "preservation_solution_type_cat\n",
      "preservation_solution_volume\n",
      "r_BMI\n",
      "r_MDRD_M3\n",
      "r_MDRD_Y1\n",
      "r_MDRD_Y5\n",
      "r_PRA\n",
      "r_age\n",
      "r_blood_group\n",
      "r_combined_transplants\n",
      "r_creatinine_M3\n",
      "r_creatinine_Y1\n",
      "r_creatinine_Y5\n",
      "r_dead\n",
      "r_death_cause_cat\n",
      "r_death_date_diff\n",
      "r_delayed_graft_function\n",
      "r_disease_recurrent\n",
      "r_first_dialysis_date_diff\n",
      "r_graft_fail_cause_cat\n",
      "r_graft_fail_date_diff\n",
      "r_height\n",
      "r_id\n",
      "r_last_dialysis_technique_cat\n",
      "r_pre_emptive_transplant\n",
      "r_proteinuria_M3\n",
      "r_proteinuria_Y1\n",
      "r_proteinuria_Y5\n",
      "r_seen_date_diff\n",
      "r_sex\n",
      "r_transplant_date\n",
      "r_weight\n",
      "retransplant\n",
      "retransplant_after\n",
      "retransplant_days\n"
     ]
    }
   ],
   "source": [
    "print(\"Final columns:\\n\")\n",
    "print_columns()"
   ]
  },
  {
   "cell_type": "code",
   "execution_count": null,
   "metadata": {},
   "outputs": [],
   "source": []
  }
 ],
 "metadata": {
  "hide_input": false,
  "kernelspec": {
   "display_name": "Python 3",
   "language": "python",
   "name": "python3"
  },
  "language_info": {
   "codemirror_mode": {
    "name": "ipython",
    "version": 3
   },
   "file_extension": ".py",
   "mimetype": "text/x-python",
   "name": "python",
   "nbconvert_exporter": "python",
   "pygments_lexer": "ipython3",
   "version": "3.7.5"
  },
  "latex_envs": {
   "LaTeX_envs_menu_present": true,
   "autoclose": false,
   "autocomplete": true,
   "bibliofile": "biblio.bib",
   "cite_by": "apalike",
   "current_citInitial": 1,
   "eqLabelWithNumbers": true,
   "eqNumInitial": 1,
   "hotkeys": {
    "equation": "Ctrl-E",
    "itemize": "Ctrl-I"
   },
   "labels_anchors": false,
   "latex_user_defs": false,
   "report_style_numbering": false,
   "user_envs_cfg": false
  },
  "toc": {
   "base_numbering": 1,
   "nav_menu": {},
   "number_sections": true,
   "sideBar": true,
   "skip_h1_title": false,
   "title_cell": "Table of Contents",
   "title_sidebar": "Contents",
   "toc_cell": false,
   "toc_position": {},
   "toc_section_display": true,
   "toc_window_display": false
  }
 },
 "nbformat": 4,
 "nbformat_minor": 2
}
